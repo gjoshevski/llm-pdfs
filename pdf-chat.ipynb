{
 "cells": [
  {
   "attachments": {},
   "cell_type": "markdown",
   "metadata": {},
   "source": [
    "Create .env file with the following vars\n",
    "\n",
    "```\n",
    "OPENAI_API_TYPE = azure\n",
    "OPENAI_API_VERSION = 2023-03-15-preview\n",
    "OPENAI_API_BASE = ' ... ' # Replace with the URL of an Azure OpenAI gpt-3.5-turbo deployment\n",
    "OPENAI_API_KEY = ' ... ' # Replace with the corresponding API key\n",
    "\n",
    "```"
   ]
  },
  {
   "cell_type": "code",
   "execution_count": null,
   "metadata": {},
   "outputs": [],
   "source": [
    "\n",
    "# Install required packages\n",
    "import sys\n",
    "\n",
    "#!conda install --yes --prefix {sys.prefix} numpy\n",
    "!conda install --yes --prefix {sys.prefix} -c conda-forge langchain\n",
    "!conda install --yes --prefix {sys.prefix} python-dotenv\n",
    "!conda install --yes --prefix {sys.prefix} -c conda-forge openai \n",
    "!conda install --yes --prefix {sys.prefix} -c conda-forge tiktoken\n",
    "!conda install --yes --prefix {sys.prefix} -c conda-forge pypdf\n",
    "!conda install --yes --prefix {sys.prefix} -c conda-forge chromadb"
   ]
  },
  {
   "cell_type": "code",
   "execution_count": null,
   "metadata": {},
   "outputs": [],
   "source": [
    "import os\n",
    "from dotenv import load_dotenv\n",
    "from langchain.document_loaders import PyPDFLoader # for loading the pdf\n",
    "from langchain.embeddings import OpenAIEmbeddings\n",
    "from langchain.vectorstores import Chroma\n",
    "\n",
    "load_dotenv()\n",
    "\n",
    "loader = PyPDFLoader('power-platform-2023-release-wave-1-plan.pdf')\n",
    "\n",
    "# combine all text\n",
    "pages = loader.load_and_split()\n",
    "\n",
    "embeddings = OpenAIEmbeddings(deployment=\"text-embedding-ada-002\", chunk_size=1)\n",
    "\n",
    "vectordb = Chroma.from_documents(pages, embedding=embeddings,\n",
    "                                 persist_directory=\"./vectordb\")\n",
    "\n",
    "#vectordb.persist()\n",
    "\n",
    "\n"
   ]
  },
  {
   "cell_type": "code",
   "execution_count": 7,
   "metadata": {},
   "outputs": [],
   "source": [
    "from langchain.chains import ConversationalRetrievalChain\n",
    "from langchain.chat_models import AzureChatOpenAI\n",
    "\n",
    "\n",
    "llm = AzureChatOpenAI(deployment_name=\"gpt-35-turbo\", temperature=0.9)\n",
    "\n",
    "pdf_qa = ConversationalRetrievalChain.from_llm(llm, vectordb.as_retriever())\n"
   ]
  },
  {
   "cell_type": "code",
   "execution_count": 9,
   "metadata": {},
   "outputs": [
    {
     "name": "stdout",
     "output_type": "stream",
     "text": [
      "Answer:\n",
      "Based on the information provided in the context, Microsoft Dataverse is already in Public preview.\n"
     ]
    }
   ],
   "source": [
    "query = \"When can we expect Microsoft Dataverse to go in Public preview?\"\n",
    "\n",
    "result = pdf_qa({\"question\": query, \"chat_history\": \"\"})\n",
    "\n",
    "print(\"Answer:\")\n",
    "print(result[\"answer\"])\n"
   ]
  },
  {
   "cell_type": "code",
   "execution_count": 10,
   "metadata": {},
   "outputs": [
    {
     "name": "stdout",
     "output_type": "stream",
     "text": [
      "Answer:\n",
      "There is only one feature going into public preview in May 2023 according to the context given. The feature is \"Test Power Apps in CICD pipelines\".\n"
     ]
    }
   ],
   "source": [
    "query = \"List all of the features going into public preview in May 2023?\"\n",
    "\n",
    "result = pdf_qa({\"question\": query, \"chat_history\": \"\"})\n",
    "\n",
    "print(\"Answer:\")\n",
    "print(result[\"answer\"])"
   ]
  },
  {
   "cell_type": "code",
   "execution_count": null,
   "metadata": {},
   "outputs": [],
   "source": [
    "query = \"List all of the features going into public preview in Sep 2023?\"\n",
    "\n",
    "result = pdf_qa({\"question\": query, \"chat_history\": \"\"})\n",
    "\n",
    "print(\"Answer:\")\n",
    "print(result[\"answer\"])"
   ]
  }
 ],
 "metadata": {
  "kernelspec": {
   "display_name": "base",
   "language": "python",
   "name": "python3"
  },
  "language_info": {
   "codemirror_mode": {
    "name": "ipython",
    "version": 3
   },
   "file_extension": ".py",
   "mimetype": "text/x-python",
   "name": "python",
   "nbconvert_exporter": "python",
   "pygments_lexer": "ipython3",
   "version": "3.10.9"
  },
  "orig_nbformat": 4
 },
 "nbformat": 4,
 "nbformat_minor": 2
}
